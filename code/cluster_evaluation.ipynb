{
 "cells": [
  {
   "cell_type": "code",
   "execution_count": 28,
   "metadata": {
    "collapsed": true
   },
   "outputs": [],
   "source": [
    "# -*- coding: utf-8 -*-"
   ]
  },
  {
   "cell_type": "code",
   "execution_count": 1,
   "metadata": {
    "collapsed": true
   },
   "outputs": [],
   "source": [
    "import numpy as np\n",
    "import scipy\n",
    "import string\n",
    "from sklearn import metrics"
   ]
  },
  {
   "cell_type": "code",
   "execution_count": 2,
   "metadata": {
    "collapsed": false
   },
   "outputs": [],
   "source": [
    "def evaluate(target, predicted, metric_type):\n",
    "    target = get_vector_of_cluster_values(target)\n",
    "    predicted = get_vector_of_cluster_values(predicted)\n",
    "    \n",
    "    # 0 -> false, 1 -> true\n",
    "    if metric_type == \"pairwise\":\n",
    "        predict = []\n",
    "        true = []\n",
    "        for i in range(0, len(predicted)):\n",
    "            for j in range(0, len(predicted)):\n",
    "                if i != j:\n",
    "                    if predicted[i] == predicted[j]:\n",
    "                        predict.append(1)\n",
    "                    else:\n",
    "                        predict.append(0) \n",
    "                        \n",
    "                    if target[i] == target[j]:\n",
    "                        true.append(1)\n",
    "                    else:\n",
    "                        true.append(0)\n",
    "        \n",
    "        scores = {\"Precision\" : metrics.precision_score(true, predict)\n",
    "                  , \"Recall\" : metrics.recall_score(true, predict)}\n",
    "        scores[\"F-1\"] = (2 * scores[\"Precision\"] * scores[\"Recall\"]) / (scores[\"Precision\"] + scores[\"Recall\"])\n",
    "        return scores\n",
    "        \n",
    "    elif metric_type == \"b3\":\n",
    "        scores = {\"Precision\" : 0., \"Recall\" : 0.}\n",
    "        for i in range(0, len(predicted)):\n",
    "            predict = []\n",
    "            true = []\n",
    "            for j in range(0, len(predicted)):\n",
    "                if predicted[i] == predicted[j]:\n",
    "                    predict.append(1)\n",
    "                else:\n",
    "                    predict.append(0)   \n",
    "            \n",
    "                if target[i] == target[j]:\n",
    "                    true.append(1)\n",
    "                else:\n",
    "                    true.append(0)\n",
    "                    \n",
    "            scores[\"Precision\"] += metrics.precision_score(true, predict)\n",
    "            scores[\"Recall\"] += metrics.recall_score(true, predict)\n",
    "        \n",
    "        scores[\"Precision\"] /= len(predicted)\n",
    "        scores[\"Recall\"] /= len(predicted)\n",
    "        scores[\"F-1\"] = (2 * scores[\"Precision\"] * scores[\"Recall\"]) / (scores[\"Precision\"] + scores[\"Recall\"])             \n",
    "        return scores\n",
    "    \n",
    "    else: \n",
    "        return None"
   ]
  },
  {
   "cell_type": "code",
   "execution_count": 3,
   "metadata": {
    "collapsed": false
   },
   "outputs": [],
   "source": [
    "# In this case, target = [0, 0, 0, 1, 1, 1], predicted = [0, 0, 1, 1, 2, 2]\n",
    "# where the value at index i is the cluster the ith vector belongs to\n",
    "def get_vector_of_cluster_values(clusters):\n",
    "    new_clusters = {}\n",
    "    for i, cluster in enumerate(clusters):\n",
    "        for element in cluster:\n",
    "            new_clusters[element] = i\n",
    "            \n",
    "    result = []\n",
    "    for i in range(0, len(new_clusters)):\n",
    "        result.append(new_clusters[i])\n",
    "    return result"
   ]
  },
  {
   "cell_type": "code",
   "execution_count": 4,
   "metadata": {
    "collapsed": false
   },
   "outputs": [],
   "source": [
    "def transform_clusters_into_numbered_clusters(words, clusters):\n",
    "    result = []\n",
    "    for cluster in clusters:\n",
    "        new_cluster = []\n",
    "        for word in cluster:\n",
    "            new_cluster.append(words.index(word))\n",
    "        result.append(new_cluster)\n",
    "    return result"
   ]
  },
  {
   "cell_type": "code",
   "execution_count": 7,
   "metadata": {
    "collapsed": false
   },
   "outputs": [
    {
     "name": "stdout",
     "output_type": "stream",
     "text": [
      "Precision: 0.733333333333\n",
      "Recall:    0.8\n",
      "F-1:       0.765217391304\n",
      "\n",
      "Precision: 0.333333333333\n",
      "Recall:    0.5\n",
      "F-1:       0.4\n"
     ]
    }
   ],
   "source": [
    "# Example of how to use evaluate()\n",
    "\n",
    "words = [\"koala\", \"ostrich\", \"porpoise\", \"salmon\", \"tuna\"]\n",
    "\n",
    "p_words_clustered = [[\"koala\"], [\"ostrich\"], [\"porpoise\", \"salmon\", \"tuna\"]]\n",
    "clusters = transform_clusters_into_numbered_clusters(words, p_words_clustered)\n",
    "\n",
    "t_words_clustered = [[\"koala\", \"porpoise\"], [\"ostrich\"], [\"salmon\", \"tuna\"]]\n",
    "target_clusters = transform_clusters_into_numbered_clusters(words, t_words_clustered)\n",
    "\n",
    "scores = evaluate(target_clusters, clusters, \"b3\")\n",
    "print \"Precision: \" + str(scores[\"Precision\"])\n",
    "print \"Recall:    \" + str(scores[\"Recall\"])\n",
    "print \"F-1:       \" + str(scores[\"F-1\"])\n",
    "print \"\"\n",
    "scores = evaluate(target_clusters, clusters, \"pairwise\")\n",
    "print \"Precision: \" + str(scores[\"Precision\"])\n",
    "print \"Recall:    \" + str(scores[\"Recall\"])\n",
    "print \"F-1:       \" + str(scores[\"F-1\"])"
   ]
  },
  {
   "cell_type": "code",
   "execution_count": null,
   "metadata": {
    "collapsed": true
   },
   "outputs": [],
   "source": []
  },
  {
   "cell_type": "code",
   "execution_count": null,
   "metadata": {
    "collapsed": true
   },
   "outputs": [],
   "source": []
  }
 ],
 "metadata": {
  "kernelspec": {
   "display_name": "Python 2",
   "language": "python",
   "name": "python2"
  },
  "language_info": {
   "codemirror_mode": {
    "name": "ipython",
    "version": 2
   },
   "file_extension": ".py",
   "mimetype": "text/x-python",
   "name": "python",
   "nbconvert_exporter": "python",
   "pygments_lexer": "ipython2",
   "version": "2.7.6"
  }
 },
 "nbformat": 4,
 "nbformat_minor": 0
}
