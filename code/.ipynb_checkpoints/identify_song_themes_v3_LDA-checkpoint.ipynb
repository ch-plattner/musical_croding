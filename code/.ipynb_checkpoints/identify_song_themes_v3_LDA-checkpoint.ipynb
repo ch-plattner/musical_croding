{
 "cells": [
  {
   "cell_type": "code",
   "execution_count": 1,
   "metadata": {
    "collapsed": false
   },
   "outputs": [],
   "source": [
    "from collections import *\n",
    "from numpy import *\n",
    "import numpy as np\n",
    "import string\n",
    "from nltk.stem.snowball import SnowballStemmer\n",
    "import nltk\n",
    "import song_parsing"
   ]
  },
  {
   "cell_type": "code",
   "execution_count": 3,
   "metadata": {
    "collapsed": false
   },
   "outputs": [],
   "source": [
    "N_CLUSTERS = 3\n",
    "\n",
    "desired_pos = ['IN', 'JJ', 'JJR', 'JJS', 'MD', 'NN', 'NNS', 'NNP', 'NNPS', 'RB', 'RBR', 'RBS', 'VB', \n",
    "    'VBD', 'VBG', 'VBN', 'VBP', 'VBZ']\n",
    "\n",
    "def get_all_words_and_word_counts(songs):\n",
    "    stemmer = SnowballStemmer(\"english\")\n",
    "    all_words = set([])\n",
    "    song_counters = {}\n",
    "    for song in songs:\n",
    "        words = []\n",
    "        for line in songs[song].split('\\n'):\n",
    "            t = nltk.word_tokenize(line.decode('utf-8'))\n",
    "            tagged = nltk.pos_tag(t)\n",
    "            for word in tagged:\n",
    "                if word[1] in desired_pos:\n",
    "                    words.append(word[0])\n",
    "                                \n",
    "        stemmed = []\n",
    "        for word in words: \n",
    "            try:\n",
    "                stem = stemmer.stem(word)\n",
    "            except:\n",
    "                stem = word\n",
    "            stemmed.append(stem)\n",
    "                            \n",
    "        counter = collections.Counter(stemmed)\n",
    "        song_counters[song] = counter\n",
    "        all_words = all_words.union( counter.iterkeys() )\n",
    "\n",
    "    all_words = sorted(all_words)\n",
    "    return all_words, song_counters\n",
    "    \n",
    "def get_all_representations_as_matrix(songs, song_counters, all_words):\n",
    "    all_song_representations = [[] for i in range(len(songs))]\n",
    "    for word in all_words:\n",
    "        for song_index, song in enumerate(songs):\n",
    "            all_song_representations[song_index].append(song_counters[song[0]][word] * 1.0) \n",
    "    return all_song_representations\n",
    "    \n",
    "def get_clusters(songs):\n",
    "    all_words, song_counters = get_all_words_and_word_counts(songs)\n",
    "    songs = list(songs.iteritems())\n",
    "\n",
    "    all_song_representations = get_all_representations_as_matrix(songs, song_counters, all_words)\n",
    "        \n",
    "    #TF-IDF\n",
    "    tfidf = sklearn.feature_extraction.text.TfidfTransformer(norm='l2',smooth_idf=True)\n",
    "    all_songs_reps = tfidf.fit_transform(all_song_representations).toarray()\n",
    "\n",
    "    return all_songs_reps"
   ]
  },
  {
   "cell_type": "code",
   "execution_count": 4,
   "metadata": {
    "collapsed": true
   },
   "outputs": [],
   "source": [
    "songs = song_parsing.get_all_song_lyrics(\"Taylor Swift\")"
   ]
  },
  {
   "cell_type": "code",
   "execution_count": null,
   "metadata": {
    "collapsed": false
   },
   "outputs": [],
   "source": [
    "all_song_reps = get_clusters(songs)"
   ]
  },
  {
   "cell_type": "code",
   "execution_count": null,
   "metadata": {
    "collapsed": false
   },
   "outputs": [],
   "source": [
    "import lda\n",
    "all_song_reps.shape\n",
    "(395, 4258)\n",
    "all_song_reps.sum()\n",
    "84010\n",
    "model = lda.LDA(n_topics=20, n_iter=1500, random_state=1)\n",
    "model.fit(all_song_reps)  # model.fit_transform(X) is also available\n",
    "topic_word = model.topic_word_  # model.components_ also works\n",
    "n_top_words = 8\n",
    "for i, topic_dist in enumerate(topic_word):\n",
    "    topic_words = np.array(vocab)[np.argsort(topic_dist)][:-(n_top_words+1):-1]\n",
    "    print('Topic {}: {}'.format(i, ' '.join(topic_words)))"
   ]
  },
  {
   "cell_type": "code",
   "execution_count": null,
   "metadata": {
    "collapsed": true
   },
   "outputs": [],
   "source": []
  }
 ],
 "metadata": {
  "kernelspec": {
   "display_name": "Python 2",
   "language": "python",
   "name": "python2"
  },
  "language_info": {
   "codemirror_mode": {
    "name": "ipython",
    "version": 2
   },
   "file_extension": ".py",
   "mimetype": "text/x-python",
   "name": "python",
   "nbconvert_exporter": "python",
   "pygments_lexer": "ipython2",
   "version": "2.7.6"
  }
 },
 "nbformat": 4,
 "nbformat_minor": 0
}
