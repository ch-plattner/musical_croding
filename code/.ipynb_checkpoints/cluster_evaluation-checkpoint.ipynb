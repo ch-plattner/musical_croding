{
 "cells": [
  {
   "cell_type": "code",
   "execution_count": 6,
   "metadata": {
    "collapsed": true
   },
   "outputs": [],
   "source": [
    "# -*- coding: utf-8 -*-"
   ]
  },
  {
   "cell_type": "code",
   "execution_count": null,
   "metadata": {
    "collapsed": true
   },
   "outputs": [],
   "source": [
    "#############################################################\n",
    "# CITATION:                                                 #\n",
    "# This code was written for Charissa Plattner's CS 224U     #\n",
    "# project in the Spring. However, it was only used for      #\n",
    "# evaluating our k-means clustering.                        #\n",
    "#############################################################"
   ]
  },
  {
   "cell_type": "code",
   "execution_count": 7,
   "metadata": {
    "collapsed": true
   },
   "outputs": [],
   "source": [
    "import numpy as np\n",
    "import scipy\n",
    "import string\n",
    "from sklearn import metrics"
   ]
  },
  {
   "cell_type": "code",
   "execution_count": 8,
   "metadata": {
    "collapsed": false
   },
   "outputs": [],
   "source": [
    "def evaluate(target, predicted, metric_type):\n",
    "    target = get_vector_of_cluster_values(target)\n",
    "    predicted = get_vector_of_cluster_values(predicted)\n",
    "    \n",
    "    # 0 -> false, 1 -> true\n",
    "    if metric_type == \"pairwise\":\n",
    "        predict = []\n",
    "        true = []\n",
    "        for i in range(0, len(predicted)):\n",
    "            for j in range(0, len(predicted)):\n",
    "                if i != j:\n",
    "                    if predicted[i] == predicted[j]:\n",
    "                        predict.append(1)\n",
    "                    else:\n",
    "                        predict.append(0) \n",
    "                        \n",
    "                    if target[i] == target[j]:\n",
    "                        true.append(1)\n",
    "                    else:\n",
    "                        true.append(0)\n",
    "        \n",
    "        scores = {\"Precision\" : metrics.precision_score(true, predict)\n",
    "                  , \"Recall\" : metrics.recall_score(true, predict)}\n",
    "        scores[\"F-1\"] = (2 * scores[\"Precision\"] * scores[\"Recall\"]) / (scores[\"Precision\"] + scores[\"Recall\"])\n",
    "        return scores\n",
    "        \n",
    "    elif metric_type == \"b3\":\n",
    "        scores = {\"Precision\" : 0., \"Recall\" : 0.}\n",
    "        for i in range(0, len(predicted)):\n",
    "            predict = []\n",
    "            true = []\n",
    "            for j in range(0, len(predicted)):\n",
    "                if predicted[i] == predicted[j]:\n",
    "                    predict.append(1)\n",
    "                else:\n",
    "                    predict.append(0)   \n",
    "            \n",
    "                if target[i] == target[j]:\n",
    "                    true.append(1)\n",
    "                else:\n",
    "                    true.append(0)\n",
    "                    \n",
    "            scores[\"Precision\"] += metrics.precision_score(true, predict)\n",
    "            scores[\"Recall\"] += metrics.recall_score(true, predict)\n",
    "        \n",
    "        scores[\"Precision\"] /= len(predicted)\n",
    "        scores[\"Recall\"] /= len(predicted)\n",
    "        scores[\"F-1\"] = (2 * scores[\"Precision\"] * scores[\"Recall\"]) / (scores[\"Precision\"] + scores[\"Recall\"])             \n",
    "        return scores\n",
    "    \n",
    "    else: \n",
    "        return None"
   ]
  },
  {
   "cell_type": "code",
   "execution_count": 9,
   "metadata": {
    "collapsed": false
   },
   "outputs": [],
   "source": [
    "# In this case, target = [0, 0, 0, 1, 1, 1], predicted = [0, 0, 1, 1, 2, 2]\n",
    "# where the value at index i is the cluster the ith vector belongs to\n",
    "def get_vector_of_cluster_values(clusters):\n",
    "    new_clusters = {}\n",
    "    for i, cluster in enumerate(clusters):\n",
    "        for element in cluster:\n",
    "            new_clusters[element] = i\n",
    "            \n",
    "    result = []\n",
    "    for i in range(0, len(new_clusters)):\n",
    "        result.append(new_clusters[i])\n",
    "    return result"
   ]
  },
  {
   "cell_type": "code",
   "execution_count": 10,
   "metadata": {
    "collapsed": false
   },
   "outputs": [],
   "source": [
    "def transform_clusters_into_numbered_clusters(words, clusters):\n",
    "    result = []\n",
    "    for cluster in clusters:\n",
    "        new_cluster = []\n",
    "        for word in cluster:\n",
    "            new_cluster.append(words.index(word))\n",
    "        result.append(new_cluster)\n",
    "    return result"
   ]
  },
  {
   "cell_type": "code",
   "execution_count": 15,
   "metadata": {
    "collapsed": false
   },
   "outputs": [],
   "source": [
    "import random\n",
    "def get_random_clusters(songs):\n",
    "    new_random_clusters = [[], [], []]\n",
    "    for song in songs:\n",
    "        cluster = random.randint(0,2)\n",
    "        new_random_clusters[cluster].append(song)\n",
    "    return new_random_clusters"
   ]
  },
  {
   "cell_type": "code",
   "execution_count": 26,
   "metadata": {
    "collapsed": false
   },
   "outputs": [
    {
     "name": "stdout",
     "output_type": "stream",
     "text": [
      "Precision: 0.46052542229\n",
      "Recall:    0.341666666667\n",
      "F-1:       0.392290545158\n",
      "\n",
      "Precision: 0.433275563258\n",
      "Recall:    0.314465408805\n",
      "F-1:       0.36443148688\n"
     ]
    }
   ],
   "source": [
    "# Ariana Grande, Baseline Random\n",
    "\n",
    "words = ['My Everything', 'Almost Is Never Enough', 'Boyfriend Material', 'Just A Little Bit Of Your Heart', 'Santa Tell Me', 'Popular Song', 'Love Is Everything', 'Snow In California', 'Break Free', 'Honeymoon Avenue', 'Intro', 'Santa Baby', 'Grenade', \"You Don't Know Me\", 'Zero To Hero', 'Last Christmas', 'One Last Time', 'Be My Baby', 'I Have Nothing', \"I Don't Want To Be Alone For Christmas\", 'Die In Your Arms', 'Put Your Hearts Up', 'The Beauty Within You', 'Daydreaming', 'Love The Way You Lie', 'Best Mistake', 'Love Me Harder', 'The Way', 'Brand New You', 'Piano', 'Vienna', 'Higher', \"Lovin' It\", 'Pink Champagne', 'Too Close', 'Hands On Me', 'Stick Around', 'Why Try', 'Break Your Heart Right Back', 'ABC', 'Do You Love Me', 'Better Left Unsaid', \"Daydreamin'\", 'Cadillac Song', \"Don't Dream It's Over\", 'One Last Time (Attends-Moi)', 'Emotions', \"You'll Never Know\", 'Suitcase', 'Problem', 'Let It Rain', 'Voodoo Love', 'Focus', 'The Way (Spanglish Version)', 'Baby I', 'Tattooed Heart', 'Right There', 'Only Girl (In The World)', 'Only 1', \"You're My Only Shawty\"]\n",
    "\n",
    "p_words_clustered = get_random_clusters(words)\n",
    "clusters = transform_clusters_into_numbered_clusters(words, p_words_clustered)\n",
    "\n",
    "t_words_clustered = [\n",
    "['Last Christmas', 'Snow In California', 'Santa Baby', 'Santa Tell Me', \"I Don't Want To Be Alone For Christmas\"],\n",
    "\n",
    "['Almost Is Never Enough', 'Just A Little Bit Of Your Heart','Break Your Heart Right Back', 'Tattooed Heart','Put Your Hearts Up', 'One Last Time (Attends-Moi)', 'One Last Time', \"You'll Never Know\", 'Why Try', 'Love The Way You Lie', 'Problem', 'Best Mistake', 'Break Free', 'Suitcase', 'Let It Rain', 'Too Close', 'Vienna', \"You Don't Know Me\", 'I Have Nothing', 'Zero To Hero' ],\n",
    "\n",
    "['Only Girl (In The World)', 'Only 1', \"You're My Only Shawty\", 'My Everything', 'Be My Baby', 'Baby I', 'Right There', 'The Way', 'The Way (Spanglish Version)', 'Love Me Harder', 'Honeymoon Avenue', 'Daydreaming', 'Boyfriend Material', 'The Beauty Within You', 'Popular Song', 'Focus', 'Love Is Everything', \"Daydreamin'\", \"Don't Dream It's Over\", 'Grenade', 'Hands On Me', 'Die In Your Arms', 'Do You Love Me', 'Intro', \"Lovin' It\" , 'Cadillac Song', 'Emotions', 'Voodoo Love', 'Better Left Unsaid', 'ABC', 'Stick Around', 'Higher', 'Piano', 'Brand New You', 'Pink Champagne']]\n",
    "target_clusters = transform_clusters_into_numbered_clusters(words, t_words_clustered)\n",
    "\n",
    "scores = evaluate(target_clusters, clusters, \"b3\")\n",
    "print \"Precision: \" + str(scores[\"Precision\"])\n",
    "print \"Recall:    \" + str(scores[\"Recall\"])\n",
    "print \"F-1:       \" + str(scores[\"F-1\"])\n",
    "print \"\"\n",
    "scores = evaluate(target_clusters, clusters, \"pairwise\")\n",
    "print \"Precision: \" + str(scores[\"Precision\"])\n",
    "print \"Recall:    \" + str(scores[\"Recall\"])\n",
    "print \"F-1:       \" + str(scores[\"F-1\"])"
   ]
  },
  {
   "cell_type": "code",
   "execution_count": 19,
   "metadata": {
    "collapsed": false
   },
   "outputs": [
    {
     "name": "stdout",
     "output_type": "stream",
     "text": [
      "Precision: 0.496164021164\n",
      "Recall:    0.559761904762\n",
      "F-1:       0.526047728807\n",
      "\n",
      "Precision: 0.475682087782\n",
      "Recall:    0.504402515723\n",
      "F-1:       0.489621489621\n"
     ]
    }
   ],
   "source": [
    "# Ariana Grande, Final\n",
    "\n",
    "words = ['My Everything', 'Almost Is Never Enough', 'Boyfriend Material', 'Just A Little Bit Of Your Heart', 'Santa Tell Me', 'Popular Song', 'Love Is Everything', 'Snow In California', 'Break Free', 'Honeymoon Avenue', 'Intro', 'Santa Baby', 'Grenade', \"You Don't Know Me\", 'Zero To Hero', 'Last Christmas', 'One Last Time', 'Be My Baby', 'I Have Nothing', \"I Don't Want To Be Alone For Christmas\", 'Die In Your Arms', 'Put Your Hearts Up', 'The Beauty Within You', 'Daydreaming', 'Love The Way You Lie', 'Best Mistake', 'Love Me Harder', 'The Way', 'Brand New You', 'Piano', 'Vienna', 'Higher', \"Lovin' It\", 'Pink Champagne', 'Too Close', 'Hands On Me', 'Stick Around', 'Why Try', 'Break Your Heart Right Back', 'ABC', 'Do You Love Me', 'Better Left Unsaid', \"Daydreamin'\", 'Cadillac Song', \"Don't Dream It's Over\", 'One Last Time (Attends-Moi)', 'Emotions', \"You'll Never Know\", 'Suitcase', 'Problem', 'Let It Rain', 'Voodoo Love', 'Focus', 'The Way (Spanglish Version)', 'Baby I', 'Tattooed Heart', 'Right There', 'Only Girl (In The World)', 'Only 1', \"You're My Only Shawty\"]\n",
    "\n",
    "p_words_clustered = [\n",
    "['My Everything', 'Almost Is Never Enough', 'Boyfriend Material', 'Just A Little Bit Of Your Heart', 'Santa Tell Me', 'Popular Song', 'Love Is Everything', 'Snow In California', 'Break Free', 'Honeymoon Avenue', 'Intro', 'Santa Baby', 'Grenade', \"You Don't Know Me\", 'Zero To Hero', 'Last Christmas', 'One Last Time', 'Be My Baby', 'I Have Nothing', \"I Don't Want To Be Alone For Christmas\", 'Die In Your Arms'],\n",
    "\n",
    "['Put Your Hearts Up', 'The Beauty Within You', 'Daydreaming', 'Love The Way You Lie', 'Best Mistake', 'Love Me Harder', 'The Way', 'Brand New You', 'Piano', 'Vienna', 'Higher', \"Lovin' It\", 'Pink Champagne', 'Too Close', 'Hands On Me', 'Stick Around', 'Why Try', 'Break Your Heart Right Back', 'ABC', 'Do You Love Me', 'Better Left Unsaid', \"Daydreamin'\", 'Cadillac Song', \"Don't Dream It's Over\", 'One Last Time (Attends-Moi)', 'Emotions', \"You'll Never Know\", 'Suitcase', 'Problem', 'Let It Rain', 'Voodoo Love', 'Focus', 'The Way (Spanglish Version)', 'Baby I', 'Tattooed Heart', 'Right There'],\n",
    "\n",
    "['Only Girl (In The World)', 'Only 1', \"You're My Only Shawty\"]]\n",
    "clusters = transform_clusters_into_numbered_clusters(words, p_words_clustered)\n",
    "\n",
    "t_words_clustered = [\n",
    "['Last Christmas', 'Snow In California', 'Santa Baby', 'Santa Tell Me', \"I Don't Want To Be Alone For Christmas\"],\n",
    "\n",
    "['Almost Is Never Enough', 'Just A Little Bit Of Your Heart','Break Your Heart Right Back', 'Tattooed Heart','Put Your Hearts Up', 'One Last Time (Attends-Moi)', 'One Last Time', \"You'll Never Know\", 'Why Try', 'Love The Way You Lie', 'Problem', 'Best Mistake', 'Break Free', 'Suitcase', 'Let It Rain', 'Too Close', 'Vienna', \"You Don't Know Me\", 'I Have Nothing', 'Zero To Hero' ],\n",
    "\n",
    "['Only Girl (In The World)', 'Only 1', \"You're My Only Shawty\", 'My Everything', 'Be My Baby', 'Baby I', 'Right There', 'The Way', 'The Way (Spanglish Version)', 'Love Me Harder', 'Honeymoon Avenue', 'Daydreaming', 'Boyfriend Material', 'The Beauty Within You', 'Popular Song', 'Focus', 'Love Is Everything', \"Daydreamin'\", \"Don't Dream It's Over\", 'Grenade', 'Hands On Me', 'Die In Your Arms', 'Do You Love Me', 'Intro', \"Lovin' It\" , 'Cadillac Song', 'Emotions', 'Voodoo Love', 'Better Left Unsaid', 'ABC', 'Stick Around', 'Higher', 'Piano', 'Brand New You', 'Pink Champagne']]\n",
    "target_clusters = transform_clusters_into_numbered_clusters(words, t_words_clustered)\n",
    "\n",
    "scores = evaluate(target_clusters, clusters, \"b3\")\n",
    "print \"Precision: \" + str(scores[\"Precision\"])\n",
    "print \"Recall:    \" + str(scores[\"Recall\"])\n",
    "print \"F-1:       \" + str(scores[\"F-1\"])\n",
    "print \"\"\n",
    "scores = evaluate(target_clusters, clusters, \"pairwise\")\n",
    "print \"Precision: \" + str(scores[\"Precision\"])\n",
    "print \"Recall:    \" + str(scores[\"Recall\"])\n",
    "print \"F-1:       \" + str(scores[\"F-1\"])"
   ]
  },
  {
   "cell_type": "code",
   "execution_count": 28,
   "metadata": {
    "collapsed": false
   },
   "outputs": [
    {
     "name": "stdout",
     "output_type": "stream",
     "text": [
      "Precision: 0.34368813495\n",
      "Recall:    0.349264705882\n",
      "F-1:       0.346453981556\n",
      "\n",
      "Precision: 0.324757004002\n",
      "Recall:    0.329657573999\n",
      "F-1:       0.327188940092\n"
     ]
    }
   ],
   "source": [
    "# Owl City, Random Baseline\n",
    "\n",
    "words = ['Hospital Flowers', 'Cave In', 'Galaxies', 'The Yacht Club', 'I Hope You Think Of Me', 'How I Became The Sea', 'Meteor Shower', 'Panda Bear', 'If My Heart Was A House', 'The Saltwater Room', \"You're Not Alone\", 'Sky Diver', 'Home Of The Blues', 'January 28, 1986', 'Honey And The Bee', 'The Airway', 'Live It Up', 'Lonely Lullaby', 'Angels', 'Hot Air Balloon', 'In Christ Alone', 'Vanilla Twilight', 'West Coast Friendship', 'Rugs From Me To You', 'Hello Seattle', 'Plant Life', 'Good Time', 'Alive', \"Dreams Don't Turn To Dust\", 'Thunderstruck', 'Peppermint Winter', 'Sunburn', 'Bird With A Broken Wing', 'Rainbow Veins', 'Unbelievable', 'Umbrella Beach', 'Captains And Cruise Ships', 'Fuzzy Blue Lights', 'Tidal Wave', 'The Tip Of The Iceberg', 'To The Sky', 'This Is The Future', 'Fireflies', 'Alligator Sky', 'On The Wing', 'Silhouette', 'Garden Party', 'Early Birdie', 'Super Honeymoon', 'Take It All Away', 'Tokyo', 'Hey Anna', \"I'll Meet You There\", 'The Joy In Your Heart', 'The Bird And The Worm', 'The Christmas Song', 'The Technicolor Phase', 'Shooting Star', 'The Real World', 'Gold', 'Bright Eyes', '99 Red Balloons', 'Wolf Bite', 'My Everything', \"This Isn't The End\", 'Sleepwalker', 'Dental Care', \"How Deep The Father's Love For Us\", 'If I Stand', 'Dear Vienna', 'Butterfly Wings', 'Swimming In Miami', 'Back Home', 'Shine Your Way', 'Wonderfilled Anthem', 'Alligator Sky (No Rap Edit)', 'Bombshell Blonde', 'Paper Tigers (Demo)', 'Designer Skyline', 'Strawberry Avalanche', 'Dreams And Disasters', 'Shy Violet', 'Dementia', \"Kiss Me Babe, It's Christmas Time\", 'Metropolis', 'Up All Night', 'Deer In The Headlights', \"Can't Live Without You\", 'Enchanted', \"Here's Hope\", \"I'm Coming After You\", 'Kamikaze', 'Beautiful Mystery (Demo)', 'I Found Love', 'Speed Of Love', 'Goodbye', 'Verge', 'Top Of The World', 'Beautiful Times', 'Light Of Christmas', 'Embers', 'Air Traffic', 'When Can I See You Again?']\n",
    "\n",
    "p_words_clustered = get_random_clusters(words)\n",
    "clusters = transform_clusters_into_numbered_clusters(words, p_words_clustered)\n",
    "\n",
    "t_words_clustered = [['Hospital Flowers', 'Cave In', 'I Hope You Think Of Me', 'Meteor Shower', 'Panda Bear', 'If My Heart Was A House', 'The Saltwater Room', \"You're Not Alone\", 'Home Of The Blues', 'January 28, 1986', 'Lonely Lullaby', 'In Christ Alone', 'Vanilla Twilight', 'West Coast Friendship', 'Plant Life', 'Alive', 'Captains And Cruise Ships', 'Fuzzy Blue Lights', 'Tidal Wave', 'Silhouette', 'Take It All Away', 'Hey Anna', \"I'll Meet You There\", 'The Joy In Your Heart', 'The Christmas Song', 'Bright Eyes', \"This Isn't The End\", 'Sleepwalker', \"How Deep The Father's Love For Us\", 'If I Stand', 'Shine Your Way', 'Shy Violet', 'Air Traffic', 'Enchanted', \"Here's Hope\", 'Beautiful Mystery (Demo)', 'I Found Love'], ['The Yacht Club', 'How I Became The Sea', 'Sky Diver', 'Honey And The Bee', \"Kiss Me Babe, It's Christmas Time\", 'The Airway', 'Rugs From Me To You', 'Sunburn', 'Bird With A Broken Wing', 'Rainbow Veins', 'Umbrella Beach', 'The Tip Of The Iceberg', 'This Is The Future', 'Fireflies', 'Alligator Sky', 'On The Wing', 'Garden Party', 'Early Birdie', 'Super Honeymoon', 'The Bird And The Worm', 'The Technicolor Phase', 'Shooting Star', 'The Real World', 'Dental Care', 'Dear Vienna', 'Butterfly Wings', 'Swimming In Miami', 'Back Home', 'Wonderfilled Anthem', 'Paper Tigers (Demo)', 'Designer Skyline', 'Strawberry Avalanche', 'Dreams And Disasters', 'Light Of Christmas'], ['Galaxies', 'Live It Up', 'Angels', 'Hot Air Balloon', 'Hello Seattle', 'Good Time', \"Dreams Don't Turn To Dust\", 'Thunderstruck', 'Peppermint Winter', 'Unbelievable', 'To The Sky', 'Tokyo', 'Gold', '99 Red Balloons', 'Wolf Bite', 'My Everything', 'Alligator Sky (No Rap Edit)', 'Bombshell Blonde', 'Dementia', 'Metropolis', 'Up All Night', 'Deer In The Headlights', 'Top Of The World', 'Beautiful Times', 'Embers', 'When Can I See You Again?', 'Verge', 'Speed Of Love', \"Can't Live Without You\", \"I'm Coming After You\", 'Kamikaze', 'Goodbye']]\n",
    "\n",
    "target_clusters = transform_clusters_into_numbered_clusters(words, t_words_clustered)\n",
    "\n",
    "scores = evaluate(target_clusters, clusters, \"b3\")\n",
    "print \"Precision: \" + str(scores[\"Precision\"])\n",
    "print \"Recall:    \" + str(scores[\"Recall\"])\n",
    "print \"F-1:       \" + str(scores[\"F-1\"])\n",
    "print \"\"\n",
    "scores = evaluate(target_clusters, clusters, \"pairwise\")\n",
    "print \"Precision: \" + str(scores[\"Precision\"])\n",
    "print \"Recall:    \" + str(scores[\"Recall\"])\n",
    "print \"F-1:       \" + str(scores[\"F-1\"])"
   ]
  },
  {
   "cell_type": "code",
   "execution_count": 20,
   "metadata": {
    "collapsed": false
   },
   "outputs": [
    {
     "name": "stdout",
     "output_type": "stream",
     "text": [
      "Precision: 0.382101070451\n",
      "Recall:    0.655319547131\n",
      "F-1:       0.482732454325\n",
      "\n",
      "Precision: 0.348423353106\n",
      "Recall:    0.647707486941\n",
      "F-1:       0.453105968331\n"
     ]
    }
   ],
   "source": [
    "# Owl City, Final\n",
    "\n",
    "words = ['Hospital Flowers', 'Cave In', 'Galaxies', 'The Yacht Club', 'I Hope You Think Of Me', 'How I Became The Sea', 'Meteor Shower', 'Panda Bear', 'If My Heart Was A House', 'The Saltwater Room', \"You're Not Alone\", 'Sky Diver', 'Home Of The Blues', 'January 28, 1986', 'Honey And The Bee', 'The Airway', 'Live It Up', 'Lonely Lullaby', 'Angels', 'Hot Air Balloon', 'In Christ Alone', 'Vanilla Twilight', 'West Coast Friendship', 'Rugs From Me To You', 'Hello Seattle', 'Plant Life', 'Good Time', 'Alive', \"Dreams Don't Turn To Dust\", 'Thunderstruck', 'Peppermint Winter', 'Sunburn', 'Bird With A Broken Wing', 'Rainbow Veins', 'Unbelievable', 'Umbrella Beach', 'Captains And Cruise Ships', 'Fuzzy Blue Lights', 'Tidal Wave', 'The Tip Of The Iceberg', 'To The Sky', 'This Is The Future', 'Fireflies', 'Alligator Sky', 'On The Wing', 'Silhouette', 'Garden Party', 'Early Birdie', 'Super Honeymoon', 'Take It All Away', 'Tokyo', 'Hey Anna', \"I'll Meet You There\", 'The Joy In Your Heart', 'The Bird And The Worm', 'The Christmas Song', 'The Technicolor Phase', 'Shooting Star', 'The Real World', 'Gold', 'Bright Eyes', '99 Red Balloons', 'Wolf Bite', 'My Everything', \"This Isn't The End\", 'Sleepwalker', 'Dental Care', \"How Deep The Father's Love For Us\", 'If I Stand', 'Dear Vienna', 'Butterfly Wings', 'Swimming In Miami', 'Back Home', 'Shine Your Way', 'Wonderfilled Anthem', 'Alligator Sky (No Rap Edit)', 'Bombshell Blonde', 'Paper Tigers (Demo)', 'Designer Skyline', 'Strawberry Avalanche', 'Dreams And Disasters', 'Shy Violet', 'Dementia', \"Kiss Me Babe, It's Christmas Time\", 'Metropolis', 'Up All Night', 'Deer In The Headlights', \"Can't Live Without You\", 'Enchanted', \"Here's Hope\", \"I'm Coming After You\", 'Kamikaze', 'Beautiful Mystery (Demo)', 'I Found Love', 'Speed Of Love', 'Goodbye', 'Verge', 'Top Of The World', 'Beautiful Times', 'Light Of Christmas', 'Embers', 'Air Traffic', 'When Can I See You Again?']\n",
    "\n",
    "p_words_clustered = [['Hospital Flowers', 'Cave In', 'Galaxies', 'The Yacht Club', 'I Hope You Think Of Me'], ['How I Became The Sea', 'Meteor Shower', 'Panda Bear', 'If My Heart Was A House', 'The Saltwater Room', \"You're Not Alone\", 'Sky Diver', 'Home Of The Blues', 'January 28, 1986', 'Honey And The Bee', 'The Airway', 'Live It Up', 'Lonely Lullaby', 'Angels', 'Hot Air Balloon', 'In Christ Alone', 'Vanilla Twilight', 'West Coast Friendship', 'Rugs From Me To You', 'Hello Seattle', 'Plant Life', 'Good Time', 'Alive', \"Dreams Don't Turn To Dust\", 'Thunderstruck', 'Peppermint Winter', 'Sunburn', 'Bird With A Broken Wing', 'Rainbow Veins', 'Unbelievable', 'Umbrella Beach', 'Captains And Cruise Ships', 'Fuzzy Blue Lights', 'Tidal Wave', 'The Tip Of The Iceberg', 'To The Sky', 'This Is The Future', 'Fireflies', 'Alligator Sky', 'On The Wing', 'Silhouette', 'Garden Party', 'Early Birdie', 'Super Honeymoon', 'Take It All Away', 'Tokyo', 'Hey Anna', \"I'll Meet You There\", 'The Joy In Your Heart', 'The Bird And The Worm', 'The Christmas Song', 'The Technicolor Phase', 'Shooting Star', 'The Real World', 'Gold', 'Bright Eyes', '99 Red Balloons', 'Wolf Bite', 'My Everything', \"This Isn't The End\", 'Sleepwalker', 'Dental Care', \"How Deep The Father's Love For Us\", 'If I Stand', 'Dear Vienna', 'Butterfly Wings', 'Swimming In Miami', 'Back Home', 'Shine Your Way', 'Wonderfilled Anthem', 'Alligator Sky (No Rap Edit)', 'Bombshell Blonde', 'Paper Tigers (Demo)', 'Designer Skyline', 'Strawberry Avalanche', 'Dreams And Disasters', 'Shy Violet', 'Dementia'], [\"Kiss Me Babe, It's Christmas Time\", 'Metropolis', 'Up All Night', 'Deer In The Headlights', \"Can't Live Without You\", 'Enchanted', \"Here's Hope\", \"I'm Coming After You\", 'Kamikaze', 'Beautiful Mystery (Demo)', 'I Found Love', 'Speed Of Love', 'Goodbye', 'Verge', 'Top Of The World', 'Beautiful Times', 'Light Of Christmas', 'Embers', 'Air Traffic', 'When Can I See You Again?']]\n",
    "clusters = transform_clusters_into_numbered_clusters(words, p_words_clustered)\n",
    "\n",
    "t_words_clustered = [['Hospital Flowers', 'Cave In', 'I Hope You Think Of Me', 'Meteor Shower', 'Panda Bear', 'If My Heart Was A House', 'The Saltwater Room', \"You're Not Alone\", 'Home Of The Blues', 'January 28, 1986', 'Lonely Lullaby', 'In Christ Alone', 'Vanilla Twilight', 'West Coast Friendship', 'Plant Life', 'Alive', 'Captains And Cruise Ships', 'Fuzzy Blue Lights', 'Tidal Wave', 'Silhouette', 'Take It All Away', 'Hey Anna', \"I'll Meet You There\", 'The Joy In Your Heart', 'The Christmas Song', 'Bright Eyes', \"This Isn't The End\", 'Sleepwalker', \"How Deep The Father's Love For Us\", 'If I Stand', 'Shine Your Way', 'Shy Violet', 'Air Traffic', 'Enchanted', \"Here's Hope\", 'Beautiful Mystery (Demo)', 'I Found Love'], ['The Yacht Club', 'How I Became The Sea', 'Sky Diver', 'Honey And The Bee', \"Kiss Me Babe, It's Christmas Time\", 'The Airway', 'Rugs From Me To You', 'Sunburn', 'Bird With A Broken Wing', 'Rainbow Veins', 'Umbrella Beach', 'The Tip Of The Iceberg', 'This Is The Future', 'Fireflies', 'Alligator Sky', 'On The Wing', 'Garden Party', 'Early Birdie', 'Super Honeymoon', 'The Bird And The Worm', 'The Technicolor Phase', 'Shooting Star', 'The Real World', 'Dental Care', 'Dear Vienna', 'Butterfly Wings', 'Swimming In Miami', 'Back Home', 'Wonderfilled Anthem', 'Paper Tigers (Demo)', 'Designer Skyline', 'Strawberry Avalanche', 'Dreams And Disasters', 'Light Of Christmas'], ['Galaxies', 'Live It Up', 'Angels', 'Hot Air Balloon', 'Hello Seattle', 'Good Time', \"Dreams Don't Turn To Dust\", 'Thunderstruck', 'Peppermint Winter', 'Unbelievable', 'To The Sky', 'Tokyo', 'Gold', '99 Red Balloons', 'Wolf Bite', 'My Everything', 'Alligator Sky (No Rap Edit)', 'Bombshell Blonde', 'Dementia', 'Metropolis', 'Up All Night', 'Deer In The Headlights', 'Top Of The World', 'Beautiful Times', 'Embers', 'When Can I See You Again?', 'Verge', 'Speed Of Love', \"Can't Live Without You\", \"I'm Coming After You\", 'Kamikaze', 'Goodbye']]\n",
    "\n",
    "target_clusters = transform_clusters_into_numbered_clusters(words, t_words_clustered)\n",
    "\n",
    "scores = evaluate(target_clusters, clusters, \"b3\")\n",
    "print \"Precision: \" + str(scores[\"Precision\"])\n",
    "print \"Recall:    \" + str(scores[\"Recall\"])\n",
    "print \"F-1:       \" + str(scores[\"F-1\"])\n",
    "print \"\"\n",
    "scores = evaluate(target_clusters, clusters, \"pairwise\")\n",
    "print \"Precision: \" + str(scores[\"Precision\"])\n",
    "print \"Recall:    \" + str(scores[\"Recall\"])\n",
    "print \"F-1:       \" + str(scores[\"F-1\"])"
   ]
  },
  {
   "cell_type": "code",
   "execution_count": 32,
   "metadata": {
    "collapsed": false
   },
   "outputs": [
    {
     "name": "stdout",
     "output_type": "stream",
     "text": [
      "Precision: 0.338018437784\n",
      "Recall:    0.345150286955\n",
      "F-1:       0.341547136373\n",
      "\n",
      "Precision: 0.327095361338\n",
      "Recall:    0.333807395368\n",
      "F-1:       0.330417295123\n"
     ]
    }
   ],
   "source": [
    "# Taylor Swift, Random Baseline\n",
    "\n",
    "words = ['I Knew You Were Trouble', 'All You Had To Do Was Stay', 'Stay Stay Stay', '22', 'Made Up You', 'Everything Has Changed', 'Nevermind', 'New Romantics', 'Long Live', 'Jump Then Fall', 'Shake It Off', 'Picture To Burn', 'Ours', 'Red', 'Blank Space', 'Bad Blood', 'Girl At Home', 'Eyes Open', 'We Were Happy', \"Ain't Nothing 'Bout You\", 'This Love', 'Bette Davis Eyes', 'Thug Story', 'Ten Dollars And A Six Pack', 'Cold As You', 'State Of Grace', 'Sad Beautiful Tragic', 'I Knew You Were Trouble (Remix)', 'The Last Time', 'The Outside', 'Bad Blood (Remix)', 'What To Wear', 'White Horse', 'Being With My Baby', 'Under My Head', 'Mandolin', 'Out Of The Woods', 'Nashville', 'Our Song', 'Style', 'Tied Together With A Smile', \"Sweet Tea And God's Graces\", 'A Place In This World', 'One Way Ticket', 'Breathe', 'Spinning Around', 'Never Grow Up', 'Back To December', 'Writing Songs About You', 'Dark Blue Tennessee', 'Begin Again', 'Can I Go With You', 'Last Kiss', \"I'm Only Me When I'm With You\", 'I Heart ?', 'Til Brad Pitt Comes Along', 'Drops Of Jupiter', 'Enchanted', 'Wait For Me', 'Come Back... Be Here', 'Santa Baby', 'The Moment I Knew', 'Better Off', 'Christmas Must Be Something More', 'This Here Guitar', 'Teardrops On My Guitar', 'One Thing', 'Firefly', 'Better Than Revenge', 'Crazier', 'Superstar', 'You Belong With Me', 'I Know Places', 'A Perfectly Good Heart', 'Never Fade', 'The Story Of Us', 'Hey Stephen', 'Brought Up That Way', 'Just South Of Knowing Why', \"Baby, Don't You Break My Heart Slow\", 'Your Face', 'The Best Day', 'Wonderland', \"Who I've Always Been\", 'Fearless', \"Don't Hate Me For Loving You\", 'Haunted', 'My Turn To Be Me', 'Sparks Fly', 'Beautiful Eyes', 'Tell Me Why', 'Tell Me', 'Our Last Night', 'I Used To Fly', 'Stupid Boy', 'Breathless', 'Ronan', \"Didn't They\", \"You're Not Sorry\", 'What Do You Say', 'Revenge', 'All Too Well', 'Invisible', 'Fall Back On You', \"There's Your Trouble\", 'Clean', 'Christmases When You Were Mine', 'I Almost Do', 'Mean', 'Gracie', 'Tim McGraw', 'Long Time Coming', 'Silent Night', 'By The Way', 'Need You Now', 'Me And Britney', 'Angelina', 'This Is Really Happening', 'If This Was A Movie', 'I Wished On A Plane', 'Change', \"I'd Lie\", 'Welcome To New York', 'Monologue Song (La La La)', 'The Lucky One', 'The Way I Loved You', 'Stay Beautiful', 'Am I Ready For Love', 'Lucky You', 'Riptide', 'Smokey Black Nights', 'Love Story', 'Holy Ground', 'You Are In Love', 'Cross My Heart', 'Down Came The Rain', 'American Girl', 'Safe & Sound', 'Speak Now', 'Fifteen', 'Dear John', 'Come In With The Rain', 'Sweeter Than Fiction', 'Viva La Vida', 'Superman', 'Forever & Always (Piano Version)', 'Welcome Distraction', 'My Cure', 'American Boy', 'All Night Diner', 'Closest To A Cowboy', 'Permanent Marker', 'Your Anything', 'Wildest Dreams', 'How You Get The Girl', 'The Other Side Of The Door', \"Should've Said No\", 'Treacherous', \"Mary's Song (Oh My My My)\", 'All Because Of Ellen', 'Starlight', 'Innocent', 'I Wish You Would', 'We Are Never Ever Getting Back Together', 'Untouchable', 'I Know What I Want', 'White Christmas', 'Forever & Always', 'The Diary Of Me', \"Thirteen Blocks (Can't Call It Love)\", 'Last Christmas', 'Mine', 'Today Was A Fairytale']\n",
    "\n",
    "p_words_clustered = get_random_clusters(words)\n",
    "clusters = transform_clusters_into_numbered_clusters(words, p_words_clustered)\n",
    "\n",
    "t_words_clustered = ['I Knew You Were Trouble', 'I Knew You Were Trouble (Remix)', 'Bad Blood', 'Bad Blood (Remix)', 'All You Had To Do Was Stay', 'We Are Never Ever Getting Back Together', 'Blank Space', 'Shake It Off', 'Picture To Burn', 'Red', 'White Horse', 'Mean', \"You're Not Sorry\", 'Stupid Boy', 'Sad Beautiful Tragic', 'The Last Time', 'A Perfectly Good Heart', 'Teardrops On My Guitar', 'Wildest Dreams', 'Back To December', 'Come In With The Rain', 'Change', 'Dear John', 'All Too Well', \"Baby, Don't You Break My Heart Slow\", 'Better Than Revenge', 'Breathe', 'Cold As You', 'Come Back... Be Here', \"Don't Hate Me For Loving You\", 'Down Came The Rain', 'Girl At Home', 'Nevermind', 'Revenge', 'Invisible', \"There's Your Trouble\", 'I Almost Do', 'Tell Me Why', 'Tell Me', 'Our Last Night', 'The Way I Loved You', \"Should've Said No\", 'Treacherous', 'Untouchable', 'We Were Happy', 'I Used To Fly', 'Stay Stay Stay', 'Made Up You', 'New Romantics', 'This Love', 'Thug Story', 'State Of Grace', 'The Outside', 'What To Wear', 'Under My Head', 'Mandolin', 'Nashville', 'Tied Together With A Smile'], ['Fearless', 'Crazier', 'Mine', 'Today Was A Fairytale', 'Our Song', 'Sparks Fly', 'Enchanted', 'You Belong With Me', 'Everything Has Changed', \"Ain't Nothing 'Bout You\", 'Tim McGraw', 'Love Story', 'Forever & Always', 'Forever & Always (Piano Version)', 'Hey Stephen', 'Speak Now', 'Beautiful Eyes', 'Begin Again', 'Being With My Baby', 'Better Off', 'Long Live', 'Jump Then Fall', 'Ours', 'Breathless', 'By The Way', 'Cross My Heart', 'Dark Blue Tennessee', 'Fall Back On You', 'Holy Ground', 'Need You Now', 'Superstar', 'Stay Beautiful', 'Writing Songs About You', 'Spinning Around', 'Never Grow Up', 'Last Kiss', \"I'm Only Me When I'm With You\", 'I Heart ?', 'Wait For Me', 'The Moment I Knew', 'This Here Guitar', 'One Thing', 'I Know Places', 'Never Fade', 'The Story Of Us', 'Just South Of Knowing Why', 'Your Face', 'The Best Day', 'Wonderland', \"Who I've Always Been\", 'My Turn To Be Me', 'Ronan', 'What Do You Say'], ['Silent Night', 'White Christmas', 'Santa Baby', 'Christmases When You Were Mine', 'Christmas Must Be Something More', 'Last Christmas', 'All Because Of Ellen', 'All Night Diner', 'Am I Ready For Love', 'Fifteen', 'Welcome To New York', '22', 'Out Of The Woods', 'Safe & Sound', 'Style', 'A Place In This World', 'American Boy', 'American Girl', 'Angelina', 'Bette Davis Eyes', 'Brought Up That Way', 'Can I Go With You', 'Clean', 'Closest To A Cowboy', \"Didn't They\", 'Eyes Open', 'Firefly', 'Viva La Vida', 'Drops Of Jupiter', 'Riptide', 'Gracie', 'Haunted', 'How You Get The Girl', \"Sweet Tea And God's Graces\", 'Permanent Marker', 'Ten Dollars And A Six Pack', 'One Way Ticket', 'Til Brad Pitt Comes Along', 'Long Time Coming', 'Me And Britney', 'This Is Really Happening', 'If This Was A Movie', 'I Wished On A Plane', \"I'd Lie\", 'Monologue Song (La La La)', 'The Lucky One', 'Lucky You', 'Smokey Black Nights', 'You Are In Love', 'Sweeter Than Fiction', 'Superman', 'Welcome Distraction', 'My Cure', 'Your Anything', 'The Other Side Of The Door', \"Mary's Song (Oh My My My)\", 'Starlight', 'Innocent', 'I Wish You Would', 'I Know What I Want', 'The Diary Of Me', \"Thirteen Blocks (Can't Call It Love)\"]\n",
    "target_clusters = transform_clusters_into_numbered_clusters(words, t_words_clustered)\n",
    "\n",
    "scores = evaluate(target_clusters, clusters, \"b3\")\n",
    "print \"Precision: \" + str(scores[\"Precision\"])\n",
    "print \"Recall:    \" + str(scores[\"Recall\"])\n",
    "print \"F-1:       \" + str(scores[\"F-1\"])\n",
    "print \"\"\n",
    "scores = evaluate(target_clusters, clusters, \"pairwise\")\n",
    "print \"Precision: \" + str(scores[\"Precision\"])\n",
    "print \"Recall:    \" + str(scores[\"Recall\"])\n",
    "print \"F-1:       \" + str(scores[\"F-1\"])"
   ]
  },
  {
   "cell_type": "code",
   "execution_count": 37,
   "metadata": {
    "collapsed": false
   },
   "outputs": [
    {
     "name": "stdout",
     "output_type": "stream",
     "text": [
      "Precision: 0.446937927387\n",
      "Recall:    0.454654782383\n",
      "F-1:       0.450763330077\n",
      "\n",
      "Precision: 0.430675569521\n",
      "Recall:    0.445550589191\n",
      "F-1:       0.437986818454\n"
     ]
    }
   ],
   "source": [
    "# Taylor Swift, Final\n",
    "\n",
    "words = ['I Knew You Were Trouble', 'All You Had To Do Was Stay', 'Stay Stay Stay', '22', 'Made Up You', 'Everything Has Changed', 'Nevermind', 'New Romantics', 'Long Live', 'Jump Then Fall', 'Shake It Off', 'Picture To Burn', 'Ours', 'Red', 'Blank Space', 'Bad Blood', 'Girl At Home', 'Eyes Open', 'We Were Happy', \"Ain't Nothing 'Bout You\", 'This Love', 'Bette Davis Eyes', 'Thug Story', 'Ten Dollars And A Six Pack', 'Cold As You', 'State Of Grace', 'Sad Beautiful Tragic', 'I Knew You Were Trouble (Remix)', 'The Last Time', 'The Outside', 'Bad Blood (Remix)', 'What To Wear', 'White Horse', 'Being With My Baby', 'Under My Head', 'Mandolin', 'Out Of The Woods', 'Nashville', 'Our Song', 'Style', 'Tied Together With A Smile', \"Sweet Tea And God's Graces\", 'A Place In This World', 'One Way Ticket', 'Breathe', 'Spinning Around', 'Never Grow Up', 'Back To December', 'Writing Songs About You', 'Dark Blue Tennessee', 'Begin Again', 'Can I Go With You', 'Last Kiss', \"I'm Only Me When I'm With You\", 'I Heart ?', 'Til Brad Pitt Comes Along', 'Drops Of Jupiter', 'Enchanted', 'Wait For Me', 'Come Back... Be Here', 'Santa Baby', 'The Moment I Knew', 'Better Off', 'Christmas Must Be Something More', 'This Here Guitar', 'Teardrops On My Guitar', 'One Thing', 'Firefly', 'Better Than Revenge', 'Crazier', 'Superstar', 'You Belong With Me', 'I Know Places', 'A Perfectly Good Heart', 'Never Fade', 'The Story Of Us', 'Hey Stephen', 'Brought Up That Way', 'Just South Of Knowing Why', \"Baby, Don't You Break My Heart Slow\", 'Your Face', 'The Best Day', 'Wonderland', \"Who I've Always Been\", 'Fearless', \"Don't Hate Me For Loving You\", 'Haunted', 'My Turn To Be Me', 'Sparks Fly', 'Beautiful Eyes', 'Tell Me Why', 'Tell Me', 'Our Last Night', 'I Used To Fly', 'Stupid Boy', 'Breathless', 'Ronan', \"Didn't They\", \"You're Not Sorry\", 'What Do You Say', 'Revenge', 'All Too Well', 'Invisible', 'Fall Back On You', \"There's Your Trouble\", 'Clean', 'Christmases When You Were Mine', 'I Almost Do', 'Mean', 'Gracie', 'Tim McGraw', 'Long Time Coming', 'Silent Night', 'By The Way', 'Need You Now', 'Me And Britney', 'Angelina', 'This Is Really Happening', 'If This Was A Movie', 'I Wished On A Plane', 'Change', \"I'd Lie\", 'Welcome To New York', 'Monologue Song (La La La)', 'The Lucky One', 'The Way I Loved You', 'Stay Beautiful', 'Am I Ready For Love', 'Lucky You', 'Riptide', 'Smokey Black Nights', 'Love Story', 'Holy Ground', 'You Are In Love', 'Cross My Heart', 'Down Came The Rain', 'American Girl', 'Safe & Sound', 'Speak Now', 'Fifteen', 'Dear John', 'Come In With The Rain', 'Sweeter Than Fiction', 'Viva La Vida', 'Superman', 'Forever & Always (Piano Version)', 'Welcome Distraction', 'My Cure', 'American Boy', 'All Night Diner', 'Closest To A Cowboy', 'Permanent Marker', 'Your Anything', 'Wildest Dreams', 'How You Get The Girl', 'The Other Side Of The Door', \"Should've Said No\", 'Treacherous', \"Mary's Song (Oh My My My)\", 'All Because Of Ellen', 'Starlight', 'Innocent', 'I Wish You Would', 'We Are Never Ever Getting Back Together', 'Untouchable', 'I Know What I Want', 'White Christmas', 'Forever & Always', 'The Diary Of Me', \"Thirteen Blocks (Can't Call It Love)\", 'Last Christmas', 'Mine', 'Today Was A Fairytale']\n",
    "\n",
    "p_words_clustered = [['I Knew You Were Trouble', 'All You Had To Do Was Stay', 'Stay Stay Stay', '22', 'Made Up You', 'Everything Has Changed', 'Nevermind', 'New Romantics', 'Long Live', 'Jump Then Fall', 'Shake It Off', 'Picture To Burn', 'Ours', 'Red', 'Blank Space', 'Bad Blood', 'Girl At Home', 'Eyes Open', 'We Were Happy', \"Ain't Nothing 'Bout You\", 'This Love', 'Bette Davis Eyes', 'Thug Story', 'Ten Dollars And A Six Pack', 'Cold As You', 'State Of Grace', 'Sad Beautiful Tragic', 'I Knew You Were Trouble (Remix)', 'The Last Time', 'The Outside', 'Bad Blood (Remix)', 'What To Wear', 'White Horse', 'Being With My Baby', 'Under My Head', 'Mandolin', 'Out Of The Woods', 'Nashville', 'Our Song', 'Style', 'Tied Together With A Smile', \"Sweet Tea And God's Graces\"], ['A Place In This World', 'One Way Ticket', 'Breathe', 'Spinning Around', 'Never Grow Up', 'Back To December', 'Writing Songs About You', 'Dark Blue Tennessee', 'Begin Again', 'Can I Go With You', 'Last Kiss', \"I'm Only Me When I'm With You\", 'I Heart ?', 'Til Brad Pitt Comes Along', 'Drops Of Jupiter', 'Enchanted', 'Wait For Me', 'Come Back... Be Here', 'Santa Baby', 'The Moment I Knew', 'Better Off', 'Christmas Must Be Something More', 'This Here Guitar', 'Teardrops On My Guitar', 'One Thing', 'Firefly', 'Better Than Revenge', 'Crazier', 'Superstar', 'You Belong With Me', 'I Know Places', 'A Perfectly Good Heart', 'Never Fade', 'The Story Of Us', 'Hey Stephen', 'Brought Up That Way', 'Just South Of Knowing Why', \"Baby, Don't You Break My Heart Slow\", 'Your Face', 'The Best Day', 'Wonderland', \"Who I've Always Been\", 'Fearless', \"Don't Hate Me For Loving You\", 'Haunted', 'My Turn To Be Me', 'Sparks Fly', 'Beautiful Eyes', 'Tell Me Why', 'Tell Me', 'Our Last Night', 'I Used To Fly', 'Stupid Boy', 'Breathless', 'Ronan', \"Didn't They\", \"You're Not Sorry\", 'What Do You Say', 'Revenge', 'All Too Well', 'Invisible', 'Fall Back On You', \"There's Your Trouble\", 'Clean', 'Christmases When You Were Mine', 'I Almost Do', 'Mean', 'Gracie'], ['Tim McGraw', 'Long Time Coming', 'Silent Night', 'By The Way', 'Need You Now', 'Me And Britney', 'Angelina', 'This Is Really Happening', 'If This Was A Movie', 'I Wished On A Plane', 'Change', \"I'd Lie\", 'Welcome To New York', 'Monologue Song (La La La)', 'The Lucky One', 'The Way I Loved You', 'Stay Beautiful', 'Am I Ready For Love', 'Lucky You', 'Riptide', 'Smokey Black Nights', 'Love Story', 'Holy Ground', 'You Are In Love', 'Cross My Heart', 'Down Came The Rain', 'American Girl', 'Safe & Sound', 'Speak Now', 'Fifteen', 'Dear John', 'Come In With The Rain', 'Sweeter Than Fiction', 'Viva La Vida', 'Superman', 'Forever & Always (Piano Version)', 'Welcome Distraction', 'My Cure', 'American Boy', 'All Night Diner', 'Closest To A Cowboy', 'Permanent Marker', 'Your Anything', 'Wildest Dreams', 'How You Get The Girl', 'The Other Side Of The Door', \"Should've Said No\", 'Treacherous', \"Mary's Song (Oh My My My)\", 'All Because Of Ellen', 'Starlight', 'Innocent', 'I Wish You Would', 'We Are Never Ever Getting Back Together', 'Untouchable', 'I Know What I Want', 'White Christmas', 'Forever & Always', 'The Diary Of Me', \"Thirteen Blocks (Can't Call It Love)\", 'Last Christmas', 'Mine', 'Today Was A Fairytale']]\n",
    "clusters = transform_clusters_into_numbered_clusters(words, p_words_clustered)\n",
    "\n",
    "t_words_clustered = ['I Knew You Were Trouble', 'I Knew You Were Trouble (Remix)', 'Bad Blood', 'Bad Blood (Remix)', 'All You Had To Do Was Stay', 'We Are Never Ever Getting Back Together', 'Blank Space', 'Shake It Off', 'Picture To Burn', 'Red', 'White Horse', 'Mean', \"You're Not Sorry\", 'Stupid Boy', 'Sad Beautiful Tragic', 'The Last Time', 'A Perfectly Good Heart', 'Teardrops On My Guitar', 'Wildest Dreams', 'Back To December', 'Come In With The Rain', 'Change', 'Dear John', 'All Too Well', \"Baby, Don't You Break My Heart Slow\", 'Better Than Revenge', 'Breathe', 'Cold As You', 'Come Back... Be Here', \"Don't Hate Me For Loving You\", 'Down Came The Rain', 'Girl At Home', 'Nevermind', 'Revenge', 'Invisible', \"There's Your Trouble\", 'I Almost Do', 'Tell Me Why', 'Tell Me', 'Our Last Night', 'The Way I Loved You', \"Should've Said No\", 'Treacherous', 'Untouchable', 'We Were Happy', 'I Used To Fly', 'Stay Stay Stay', 'Made Up You', 'New Romantics', 'This Love', 'Thug Story', 'State Of Grace', 'The Outside', 'What To Wear', 'Under My Head', 'Mandolin', 'Nashville', 'Tied Together With A Smile'], ['Fearless', 'Crazier', 'Mine', 'Today Was A Fairytale', 'Our Song', 'Sparks Fly', 'Enchanted', 'You Belong With Me', 'Everything Has Changed', \"Ain't Nothing 'Bout You\", 'Tim McGraw', 'Love Story', 'Forever & Always', 'Forever & Always (Piano Version)', 'Hey Stephen', 'Speak Now', 'Beautiful Eyes', 'Begin Again', 'Being With My Baby', 'Better Off', 'Long Live', 'Jump Then Fall', 'Ours', 'Breathless', 'By The Way', 'Cross My Heart', 'Dark Blue Tennessee', 'Fall Back On You', 'Holy Ground', 'Need You Now', 'Superstar', 'Stay Beautiful', 'Writing Songs About You', 'Spinning Around', 'Never Grow Up', 'Last Kiss', \"I'm Only Me When I'm With You\", 'I Heart ?', 'Wait For Me', 'The Moment I Knew', 'This Here Guitar', 'One Thing', 'I Know Places', 'Never Fade', 'The Story Of Us', 'Just South Of Knowing Why', 'Your Face', 'The Best Day', 'Wonderland', \"Who I've Always Been\", 'My Turn To Be Me', 'Ronan', 'What Do You Say'], ['Silent Night', 'White Christmas', 'Santa Baby', 'Christmases When You Were Mine', 'Christmas Must Be Something More', 'Last Christmas', 'All Because Of Ellen', 'All Night Diner', 'Am I Ready For Love', 'Fifteen', 'Welcome To New York', '22', 'Out Of The Woods', 'Safe & Sound', 'Style', 'A Place In This World', 'American Boy', 'American Girl', 'Angelina', 'Bette Davis Eyes', 'Brought Up That Way', 'Can I Go With You', 'Clean', 'Closest To A Cowboy', \"Didn't They\", 'Eyes Open', 'Firefly', 'Viva La Vida', 'Drops Of Jupiter', 'Riptide', 'Gracie', 'Haunted', 'How You Get The Girl', \"Sweet Tea And God's Graces\", 'Permanent Marker', 'Ten Dollars And A Six Pack', 'One Way Ticket', 'Til Brad Pitt Comes Along', 'Long Time Coming', 'Me And Britney', 'This Is Really Happening', 'If This Was A Movie', 'I Wished On A Plane', \"I'd Lie\", 'Monologue Song (La La La)', 'The Lucky One', 'Lucky You', 'Smokey Black Nights', 'You Are In Love', 'Sweeter Than Fiction', 'Superman', 'Welcome Distraction', 'My Cure', 'Your Anything', 'The Other Side Of The Door', \"Mary's Song (Oh My My My)\", 'Starlight', 'Innocent', 'I Wish You Would', 'I Know What I Want', 'The Diary Of Me', \"Thirteen Blocks (Can't Call It Love)\"]\n",
    "target_clusters = transform_clusters_into_numbered_clusters(words, t_words_clustered)\n",
    "\n",
    "scores = evaluate(target_clusters, clusters, \"b3\")\n",
    "print \"Precision: \" + str(scores[\"Precision\"])\n",
    "print \"Recall:    \" + str(scores[\"Recall\"])\n",
    "print \"F-1:       \" + str(scores[\"F-1\"])\n",
    "print \"\"\n",
    "scores = evaluate(target_clusters, clusters, \"pairwise\")\n",
    "print \"Precision: \" + str(scores[\"Precision\"])\n",
    "print \"Recall:    \" + str(scores[\"Recall\"])\n",
    "print \"F-1:       \" + str(scores[\"F-1\"])"
   ]
  },
  {
   "cell_type": "code",
   "execution_count": 7,
   "metadata": {
    "collapsed": false
   },
   "outputs": [
    {
     "name": "stdout",
     "output_type": "stream",
     "text": [
      "Precision: 0.733333333333\n",
      "Recall:    0.8\n",
      "F-1:       0.765217391304\n",
      "\n",
      "Precision: 0.333333333333\n",
      "Recall:    0.5\n",
      "F-1:       0.4\n"
     ]
    }
   ],
   "source": [
    "# Example of how to use evaluate()\n",
    "\n",
    "words = [\"koala\", \"ostrich\", \"porpoise\", \"salmon\", \"tuna\"]\n",
    "\n",
    "p_words_clustered = [[\"koala\"], [\"ostrich\"], [\"porpoise\", \"salmon\", \"tuna\"]]\n",
    "clusters = transform_clusters_into_numbered_clusters(words, p_words_clustered)\n",
    "\n",
    "t_words_clustered = [[\"koala\", \"porpoise\"], [\"ostrich\"], [\"salmon\", \"tuna\"]]\n",
    "target_clusters = transform_clusters_into_numbered_clusters(words, t_words_clustered)\n",
    "\n",
    "scores = evaluate(target_clusters, clusters, \"b3\")\n",
    "print \"Precision: \" + str(scores[\"Precision\"])\n",
    "print \"Recall:    \" + str(scores[\"Recall\"])\n",
    "print \"F-1:       \" + str(scores[\"F-1\"])\n",
    "print \"\"\n",
    "scores = evaluate(target_clusters, clusters, \"pairwise\")\n",
    "print \"Precision: \" + str(scores[\"Precision\"])\n",
    "print \"Recall:    \" + str(scores[\"Recall\"])\n",
    "print \"F-1:       \" + str(scores[\"F-1\"])"
   ]
  }
 ],
 "metadata": {
  "kernelspec": {
   "display_name": "Python 2",
   "language": "python",
   "name": "python2"
  },
  "language_info": {
   "codemirror_mode": {
    "name": "ipython",
    "version": 2
   },
   "file_extension": ".py",
   "mimetype": "text/x-python",
   "name": "python",
   "nbconvert_exporter": "python",
   "pygments_lexer": "ipython2",
   "version": "2.7.6"
  }
 },
 "nbformat": 4,
 "nbformat_minor": 0
}
