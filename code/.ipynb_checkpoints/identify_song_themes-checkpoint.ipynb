{
 "cells": [
  {
   "cell_type": "code",
   "execution_count": 2,
   "metadata": {
    "collapsed": false
   },
   "outputs": [],
   "source": [
    "from collections import *\n",
    "from numpy import *\n",
    "import numpy as np\n",
    "import csv\n",
    "import sys\n",
    "import json\n",
    "import re\n",
    "import nltk.data\n",
    "import string\n",
    "import sklearn.cluster\n",
    "import matplotlib.pyplot as plt\n",
    "import matplotlib.cm as cm\n",
    "import xml.etree.ElementTree as ET\n",
    "import sklearn.decomposition\n",
    "from tsne import *\n",
    "import song_parsing\n",
    "import collections\n",
    "import sklearn.feature_extraction.text\n",
    "csv.field_size_limit(sys.maxsize);"
   ]
  },
  {
   "cell_type": "code",
   "execution_count": 3,
   "metadata": {
    "collapsed": false
   },
   "outputs": [],
   "source": [
    "songs = song_parsing.get_all_song_lyrics(\"Taylor Swift\")\n",
    "\n",
    "all_words = set([])\n",
    "song_counters = {}\n",
    "for song in songs:\n",
    "    words = []\n",
    "    for line in songs[song].split('\\n'):\n",
    "        line = line.translate(None, string.punctuation)\n",
    "        words.extend(line.replace('\"', '').split(' '))\n",
    "\n",
    "    counter = collections.Counter(words)\n",
    "    song_counters[song] = counter\n",
    "    all_words = all_words.union( counter.iterkeys() )\n",
    "    \n",
    "length = len(all_words)\n",
    "all_words = sorted(all_words)\n",
    "\n",
    "songs = list(songs.iteritems())\n",
    "\n",
    "all_song_representations = [[] for i in range(len(songs))]\n",
    "for word in all_words:\n",
    "    for song_index, song in enumerate(songs):\n",
    "        all_song_representations[song_index].append(song_counters[song[0]][word] * 1.0) \n",
    "    \n",
    "N_CLUSTERS = 10\n",
    "clusterer = sklearn.cluster.KMeans(n_clusters=N_CLUSTERS, max_iter=500) #make max_iter higher later\n",
    "\n",
    "from sklearn.decomposition import PCA\n",
    "pca = PCA(n_components=100)\n",
    "all_song_representations = np.array(all_song_representations) # as NP array\n",
    "all_song_representations = pca.fit_transform(all_song_representations) #linear dimensionality reduction\n",
    "cluster_labels = clusterer.fit_predict(all_song_representations)"
   ]
  },
  {
   "cell_type": "code",
   "execution_count": 4,
   "metadata": {
    "collapsed": false
   },
   "outputs": [
    {
     "name": "stdout",
     "output_type": "stream",
     "text": [
      "Preprocessing the data using PCA...\n",
      "Computing pairwise distances...\n",
      "Computing P-values for point  0  of  173 ...\n",
      "Mean value of sigma: "
     ]
    },
    {
     "name": "stderr",
     "output_type": "stream",
     "text": [
      "tsne.py:22: RuntimeWarning: divide by zero encountered in log\n",
      "  H = Math.log(sumP) + beta * Math.sum(D * P) / sumP;\n",
      "tsne.py:22: RuntimeWarning: invalid value encountered in divide\n",
      "  H = Math.log(sumP) + beta * Math.sum(D * P) / sumP;\n",
      "tsne.py:23: RuntimeWarning: invalid value encountered in divide\n",
      "  P = P / sumP;\n",
      "tsne.py:147: RuntimeWarning: invalid value encountered in greater\n",
      "  gains = (gains + 0.2) * ((dY > 0) != (iY > 0)) + (gains * 0.8) * ((dY > 0) == (iY > 0));\n"
     ]
    },
    {
     "name": "stdout",
     "output_type": "stream",
     "text": [
      " 9.19108174219\n",
      "Iteration  10 : error is  nan\n",
      "Iteration  20 : error is  nan\n",
      "Iteration  30 : error is  nan\n",
      "Iteration  40 : error is  nan\n",
      "Iteration  50 : error is  nan\n",
      "Iteration  60 : error is  nan\n",
      "Iteration  70 : error is  nan\n",
      "Iteration  80 : error is  nan\n",
      "Iteration  90 : error is  nan\n",
      "Iteration  100 : error is  nan\n",
      "Iteration  110 : error is  nan\n",
      "Iteration  120 : error is  nan\n",
      "Iteration  130 : error is  nan\n",
      "Iteration  140 : error is  nan\n",
      "Iteration  150 : error is  nan\n",
      "Iteration  160 : error is  nan\n",
      "Iteration  170 : error is  nan\n",
      "Iteration  180 : error is  nan\n",
      "Iteration  190 : error is  nan\n",
      "Iteration  200 : error is  nan\n",
      "Iteration  210 : error is  nan\n",
      "Iteration  220 : error is  nan\n",
      "Iteration  230 : error is  nan\n",
      "Iteration  240 : error is  nan\n",
      "Iteration  250 : error is  nan\n",
      "Iteration  260 : error is  nan\n",
      "Iteration  270 : error is  nan\n",
      "Iteration  280 : error is  nan\n",
      "Iteration  290 : error is  nan\n",
      "Iteration  300 : error is  nan\n",
      "Iteration  310 : error is  nan\n",
      "Iteration  320 : error is  nan\n",
      "Iteration  330 : error is  nan\n",
      "Iteration  340 : error is  nan\n",
      "Iteration  350 : error is  nan\n",
      "Iteration  360 : error is  nan\n",
      "Iteration  370 : error is  nan\n",
      "Iteration  380 : error is  nan\n",
      "Iteration  390 : error is  nan\n",
      "Iteration  400 : error is  nan\n",
      "Iteration  410 : error is  nan\n",
      "Iteration  420 : error is  nan\n",
      "Iteration  430 : error is  nan\n",
      "Iteration  440 : error is  nan\n",
      "Iteration  450 : error is  nan\n",
      "Iteration  460 : error is  nan\n",
      "Iteration  470 : error is  nan\n",
      "Iteration  480 : error is  nan\n",
      "Iteration  490 : error is  nan\n",
      "Iteration  500 : error is  nan\n",
      "Iteration  510 : error is  nan\n",
      "Iteration  520 : error is  nan\n",
      "Iteration  530 : error is  nan\n",
      "Iteration  540 : error is  nan\n",
      "Iteration  550 : error is  nan\n",
      "Iteration  560 : error is  nan\n",
      "Iteration  570 : error is  nan\n",
      "Iteration  580 : error is  nan\n",
      "Iteration  590 : error is  nan\n",
      "Iteration  600 : error is  nan\n",
      "Iteration  610 : error is  nan\n",
      "Iteration  620 : error is  nan\n",
      "Iteration  630 : error is  nan\n",
      "Iteration  640 : error is  nan\n",
      "Iteration  650 : error is  nan\n",
      "Iteration  660 : error is  nan\n",
      "Iteration  670 : error is  nan\n",
      "Iteration  680 : error is  nan\n",
      "Iteration  690 : error is  nan\n",
      "Iteration  700 : error is  nan\n",
      "Iteration  710 : error is  nan\n",
      "Iteration  720 : error is  nan\n",
      "Iteration  730 : error is  nan\n",
      "Iteration  740 : error is  nan\n",
      "Iteration  750 : error is  nan\n",
      "Iteration  760 : error is  nan\n",
      "Iteration  770 : error is  nan\n",
      "Iteration  780 : error is  nan\n",
      "Iteration  790 : error is  nan\n",
      "Iteration  800 : error is  nan\n",
      "Iteration  810 : error is  nan\n",
      "Iteration  820 : error is  nan\n",
      "Iteration  830 : error is  nan\n",
      "Iteration  840 : error is  nan\n",
      "Iteration  850 : error is  nan\n",
      "Iteration  860 : error is  nan\n",
      "Iteration  870 : error is  nan\n",
      "Iteration  880 : error is  nan\n",
      "Iteration  890 : error is  nan\n",
      "Iteration  900 : error is  nan\n",
      "Iteration  910 : error is  nan\n",
      "Iteration  920 : error is  nan\n",
      "Iteration  930 : error is  nan\n",
      "Iteration  940 : error is  nan\n",
      "Iteration  950 : error is  nan\n",
      "Iteration  960 : error is  nan\n",
      "Iteration  970 : error is  nan\n",
      "Iteration  980 : error is  nan\n",
      "Iteration  990 : error is  nan\n",
      "Iteration  1000 : error is  nan\n"
     ]
    }
   ],
   "source": [
    "t = tsne(all_song_representations)"
   ]
  },
  {
   "cell_type": "code",
   "execution_count": 5,
   "metadata": {
    "collapsed": false
   },
   "outputs": [
    {
     "data": {
      "text/plain": [
       "<matplotlib.collections.PathCollection at 0x10605ba90>"
      ]
     },
     "execution_count": 5,
     "metadata": {},
     "output_type": "execute_result"
    }
   ],
   "source": [
    "plt.figure(figsize=(12,12))\n",
    "colors = cm.spectral(cluster_labels.astype(float) / N_CLUSTERS)\n",
    "plt.scatter(t[:, 0], t[:, 1], marker='.', s=120, lw=0, alpha=0.7, c=colors)\n",
    "# plt.show()"
   ]
  },
  {
   "cell_type": "code",
   "execution_count": null,
   "metadata": {
    "collapsed": true
   },
   "outputs": [],
   "source": []
  }
 ],
 "metadata": {
  "kernelspec": {
   "display_name": "Python 2",
   "language": "python",
   "name": "python2"
  },
  "language_info": {
   "codemirror_mode": {
    "name": "ipython",
    "version": 2
   },
   "file_extension": ".py",
   "mimetype": "text/x-python",
   "name": "python",
   "nbconvert_exporter": "python",
   "pygments_lexer": "ipython2",
   "version": "2.7.6"
  }
 },
 "nbformat": 4,
 "nbformat_minor": 0
}
