{
 "cells": [
  {
   "cell_type": "code",
   "execution_count": null,
   "metadata": {
    "collapsed": true
   },
   "outputs": [],
   "source": [
    "#############################################################\n",
    "# CITATION:                                                 #\n",
    "# The graphing code and the function                        #\n",
    "# get_all_representations_as_matrix() was written for       #\n",
    "# Charissa Plattner's CS 224U project in the Spring.        #\n",
    "#############################################################"
   ]
  },
  {
   "cell_type": "code",
   "execution_count": 15,
   "metadata": {
    "collapsed": false
   },
   "outputs": [],
   "source": [
    "from collections import *\n",
    "from numpy import *\n",
    "import numpy as np\n",
    "\n",
    "import matplotlib.pyplot as plt\n",
    "import matplotlib.cm as cm\n",
    "\n",
    "import sklearn.cluster\n",
    "import sklearn.decomposition\n",
    "import sklearn.feature_extraction.text\n",
    "from sklearn.decomposition import PCA\n",
    "\n",
    "from nltk.stem.snowball import SnowballStemmer\n",
    "import nltk\n",
    "import song_parsing"
   ]
  },
  {
   "cell_type": "code",
   "execution_count": 16,
   "metadata": {
    "collapsed": false
   },
   "outputs": [],
   "source": [
    "N_CLUSTERS = 3\n",
    "\n",
    "desired_pos = ['IN', 'JJ', 'JJR', 'JJS', 'MD', 'NN', 'NNS', 'NNP', 'NNPS', 'RB', 'RBR', 'RBS', 'VB', \n",
    "    'VBD', 'VBG', 'VBN', 'VBP', 'VBZ']\n",
    "\n",
    "def get_all_words_and_word_counts(songs):\n",
    "    stemmer = SnowballStemmer(\"english\")\n",
    "    all_words = set([])\n",
    "    song_counters = {}\n",
    "    for song in songs:\n",
    "        words = []\n",
    "        for line in songs[song].split('\\n'):\n",
    "            t = nltk.word_tokenize(line.decode('utf-8'))\n",
    "            tagged = nltk.pos_tag(t)\n",
    "            for word in tagged:\n",
    "                if word[1] in desired_pos:\n",
    "                    words.append(word[0])\n",
    "                                \n",
    "        stemmed = []\n",
    "        for word in words: \n",
    "            try:\n",
    "                stem = stemmer.stem(word)\n",
    "            except:\n",
    "                stem = word\n",
    "            stemmed.append(stem)\n",
    "                            \n",
    "        counter = Counter(stemmed)\n",
    "        song_counters[song] = counter\n",
    "        all_words = all_words.union( counter.iterkeys() )\n",
    "\n",
    "    all_words = sorted(all_words)\n",
    "    return all_words, song_counters\n",
    "    \n",
    "def get_all_representations_as_matrix(songs, song_counters, all_words):\n",
    "    all_song_representations = [[] for i in range(len(songs))]\n",
    "    for word in all_words:\n",
    "        for song_index, song in enumerate(songs):\n",
    "            all_song_representations[song_index].append(song_counters[song[0]][word] * 1.0) \n",
    "    return all_song_representations\n",
    "    \n",
    "def get_clusters(songs):\n",
    "    all_words, song_counters = get_all_words_and_word_counts(songs)\n",
    "    songs = list(songs.iteritems())\n",
    "\n",
    "    all_song_representations = get_all_representations_as_matrix(songs, song_counters, all_words)\n",
    "        \n",
    "    #TF-IDF\n",
    "    tfidf = sklearn.feature_extraction.text.TfidfTransformer(norm='l2',smooth_idf=True)\n",
    "    communities = tfidf.fit_transform(all_song_representations).toarray()\n",
    "\n",
    "    #SVD\n",
    "    svd = sklearn.decomposition.TruncatedSVD(n_components=len(all_song_representations[0])/2)\n",
    "    all_song_representations = svd.fit_transform(communities)\n",
    "        \n",
    "    clusterer = sklearn.cluster.KMeans(n_clusters=N_CLUSTERS, max_iter=500) #make max_iter higher later\n",
    "    all_song_representations = np.array(all_song_representations) # as NP array\n",
    "    cluster_labels = clusterer.fit_predict(all_song_representations)\n",
    "    \n",
    "    clusters = {}\n",
    "    for song_index, cluster in enumerate(cluster_labels):\n",
    "        if cluster not in clusters:\n",
    "            clusters[cluster] = [songs[song_index][0]]\n",
    "        else:\n",
    "            clusters[cluster].append(songs[song_index][0])\n",
    "    return all_song_representations, clusters, cluster_labels"
   ]
  },
  {
   "cell_type": "code",
   "execution_count": 32,
   "metadata": {
    "collapsed": true
   },
   "outputs": [],
   "source": [
    "songs = song_parsing.get_all_song_lyrics(\"Ariana Grande\")"
   ]
  },
  {
   "cell_type": "code",
   "execution_count": 33,
   "metadata": {
    "collapsed": false
   },
   "outputs": [],
   "source": [
    "all_song_reps, clusters, cluster_labels = get_clusters(songs)"
   ]
  },
  {
   "cell_type": "code",
   "execution_count": 34,
   "metadata": {
    "collapsed": false
   },
   "outputs": [],
   "source": [
    "svd = sklearn.decomposition.TruncatedSVD(n_components=2)\n",
    "t = svd.fit_transform(all_song_reps)"
   ]
  },
  {
   "cell_type": "code",
   "execution_count": 35,
   "metadata": {
    "collapsed": false
   },
   "outputs": [
    {
     "data": {
      "image/png": "[encoded data removed]",
      "text/plain": [
       "<matplotlib.figure.Figure at 0x10ffe7d10>"
      ]
     },
     "metadata": {},
     "output_type": "display_data"
    }
   ],
   "source": [
    "%matplotlib inline\n",
    "plt.figure(figsize=(5,5))\n",
    "colors = cm.spectral(cluster_labels.astype(float) / N_CLUSTERS)\n",
    "plt.scatter(t[:, 0], t[:, 1], marker='.', s=120, lw=0, alpha=0.7, c=colors)\n",
    "plt.show()"
   ]
  },
  {
   "cell_type": "code",
   "execution_count": 36,
   "metadata": {
    "collapsed": false
   },
   "outputs": [
    {
     "name": "stdout",
     "output_type": "stream",
     "text": [
      "Counter({1: 37, 2: 14, 0: 9})\n",
      "['Love Me Harder', 'The Way', \"Lovin' It\", 'Stick Around', 'ABC', 'Emotions', 'Problem', 'Baby I', 'Right There']\n",
      "['My Everything', 'Almost Is Never Enough', 'The Beauty Within You', 'Daydreaming', 'Love The Way You Lie', 'Only 1', 'Just A Little Bit Of Your Heart', 'Brand New You', 'Santa Tell Me', 'Vienna', 'Popular Song', 'Love Is Everything', 'Snow In California', 'Break Free', 'Too Close', 'Honeymoon Avenue', 'Intro', \"You're My Only Shawty\", 'Why Try', 'Break Your Heart Right Back', \"Daydreamin'\", 'Santa Baby', 'Cadillac Song', \"You'll Never Know\", 'Suitcase', 'Grenade', \"You Don't Know Me\", 'Zero To Hero', 'Last Christmas', 'Voodoo Love', 'One Last Time', 'Be My Baby', 'I Have Nothing', 'The Way (Spanglish Version)', 'Tattooed Heart', \"I Don't Want To Be Alone For Christmas\", 'Die In Your Arms']\n",
      "['Boyfriend Material', 'Put Your Hearts Up', 'Only Girl (In The World)', 'Best Mistake', 'Piano', 'Higher', 'Pink Champagne', 'Hands On Me', 'Do You Love Me', 'Better Left Unsaid', \"Don't Dream It's Over\", 'One Last Time (Attends-Moi)', 'Let It Rain', 'Focus']\n"
     ]
    }
   ],
   "source": [
    "print Counter(cluster_labels)\n",
    "for cluster in clusters:\n",
    "    print clusters[cluster]"
   ]
  },
  {
   "cell_type": "code",
   "execution_count": null,
   "metadata": {
    "collapsed": true
   },
   "outputs": [],
   "source": []
  }
 ],
 "metadata": {
  "kernelspec": {
   "display_name": "Python 2",
   "language": "python",
   "name": "python2"
  },
  "language_info": {
   "codemirror_mode": {
    "name": "ipython",
    "version": 2
   },
   "file_extension": ".py",
   "mimetype": "text/x-python",
   "name": "python",
   "nbconvert_exporter": "python",
   "pygments_lexer": "ipython2",
   "version": "2.7.6"
  }
 },
 "nbformat": 4,
 "nbformat_minor": 0
}
